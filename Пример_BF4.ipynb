{
 "cells": [
  {
   "cell_type": "code",
   "execution_count": null,
   "metadata": {},
   "outputs": [],
   "source": [
    "# https://habr.com/ru/post/544828/\n",
    "from bs4 import BeautifulSoup\n",
    "import requests\n",
    "\n",
    "url = 'https://neftegas.info/news/'\n",
    "page = requests.get(url)\n",
    "print(page.status_code)\n",
    "\n",
    "# filteredNews = []\n",
    "allNews = []\n",
    "\n",
    "soup = BeautifulSoup(page.text)#, \"html.parser\")\n",
    "allNews = soup.findAll('a', class_='news-list-all')\n",
    "\n",
    "for n in allNews[:15]:\n",
    "    print(n.attrs['href'])\n",
    "    print(n.find('span', class_='news-list-all-date').text.strip())\n",
    "    print(n.find('h2').text)"
   ]
  },
  {
   "cell_type": "code",
   "execution_count": null,
   "metadata": {},
   "outputs": [],
   "source": [
    "<a href=\"/news/26-28-oktyabrya-v-mvts-krokus-eks/\" class=\"news-list-all\" title=\"Перейти\">\n",
    "\n",
    "        \n",
    "            <br><br><br>\n",
    "            <div class=\"clr\"></div>\n",
    "\n",
    "        \n",
    "        <span class=\"news-list-all-date\">\n",
    "            23 Сентября 2021        </span>\n",
    "\n",
    "\n",
    "        <h2>26-28 октября в МВЦ «Крокус Экспо» состоится Международная выставка оборудования для неразрушающего контроля NDT Russia </h2>\n",
    "\n",
    "                        <div class=\"clr\"></div>\n",
    "    </a>"
   ]
  },
  {
   "cell_type": "code",
   "execution_count": 1,
   "metadata": {},
   "outputs": [
    {
     "name": "stdout",
     "output_type": "stream",
     "text": [
      "200\n"
     ]
    }
   ],
   "source": [
    "# https://habr.com/ru/post/544828/\n",
    "from bs4 import BeautifulSoup\n",
    "import requests\n",
    "\n",
    "main_url = 'https://mirsmazok.ru'\n",
    "url = f'{main_url}/news/'\n",
    "page = requests.get(url)\n",
    "print(page.status_code)\n",
    "\n",
    "# filteredNews = []\n",
    "allNews = []\n",
    "\n",
    "soup = BeautifulSoup(page.text)#, \"html.parser\")\n",
    "allNews = soup.findAll('div', class_='animation-boxs')\n"
   ]
  },
  {
   "cell_type": "code",
   "execution_count": 6,
   "metadata": {},
   "outputs": [
    {
     "name": "stdout",
     "output_type": "stream",
     "text": [
      "https://mirsmazok.ru/news/maersk_testiruet_sistemu_vozdushnoy_smazki_silverstream_na_novom_konteynerovoze/\n",
      "https://mirsmazok.ru/upload/iblock/17f/17ff275347931944222733050e3f4df5.png\n",
      "Maersk тестирует систему воздушной смазки Silverstream на новом контейнеровозе\n",
      "8 Октября 2021\n"
     ]
    }
   ],
   "source": [
    "\n",
    "print(main_url+ allNews[0].find('a').attrs['href'])\n",
    "print(main_url+ allNews[0].find('a').find('img').attrs['src'])\n",
    "print(allNews[0].find('span').text)\n",
    "print(allNews[0].find('div', class_='date-block').text)"
   ]
  },
  {
   "cell_type": "code",
   "execution_count": null,
   "metadata": {},
   "outputs": [],
   "source": [
    "for p in range(1,6):\n",
    "    purl = f'{url}/?PAGEN_1={p}'\n",
    "    page = requests.get(purl)\n",
    "\n",
    "    allNews = []\n",
    "\n",
    "    soup = BeautifulSoup(page.text)\n",
    "    allNews = soup.findAll('div', class_='animation-boxs')\n",
    "\n",
    "    for n in allNews:\n",
    "        print(main_url+ n.find('a').attrs['href'])\n",
    "        print(main_url+ n.find('a').find('img').attrs['src'])\n",
    "        print(n.find('span').text)\n",
    "        print(n.find('div', class_='date-block').text)"
   ]
  },
  {
   "cell_type": "code",
   "execution_count": 5,
   "metadata": {},
   "outputs": [
    {
     "name": "stdout",
     "output_type": "stream",
     "text": [
      "200\n"
     ]
    },
    {
     "data": {
      "text/plain": [
       "'Мурманск, 9 окт - ИА Neftegaz.RU. До конца 2021 г. в правительство РФ будет направлен проект по созданию сетей электроснабжения для проектов развития западного берега Кольского залива.  Об этом сообщает пресс-служба Минвостокразвития со ссылкой на замминистра РФ по развитию Дальнего Востока и Арктики А. Бобракова и губернатора Мурманской области А. Чибиса.  План был озвучен на совещании, прошедшем в Мурманске и посвященном инфраструктурному развитию региона.  Тезисы А. Бобракова:мы договорились, что на Российской энергетической неделе будет подписана дорожная карта реализации данного проекта;до конца 2021 г. мы выработаем финальные решения и внесем их на рассмотрение в правительство РФ. Тезисы А. Чибиса:проект создания электроэнергетической инфраструктуры будет реализован в формате концессионного соглашения, успешно зарекомендовавшем себя во многих сферах деятельности;это удобно для всех, это реальный шанс в кратчайшие сроки фактически «создать розетку» для уже существующих и будущих проектов;быстрее обеспечить эти проекты электроэнергией просто невозможно. Напомним, о том, что на западном берегу Кольского залива, где нет никакой инфраструктуры, могут создать дополнительные энергетические мощности для обеспечения резидентов территории опережающего развития (ТОР) «Столица Арктики», сообщалось еще в марте 2021 г. В пресс-службе губернатора Мурманской области отмечали, что уже есть резиденты, которые приняли решение инвестировать: компания Норебо будет создавать новый рыбный порт, проекты «Лавна» и «Морской терминал Тулома». Для этого нужно энергообеспечение. Поэтому А. Чибис предлагал обсудить возможный механизм по арктической концессии, который бы поддержало правительство РФ.\\t\\t\\t        '"
      ]
     },
     "execution_count": 5,
     "metadata": {},
     "output_type": "execute_result"
    }
   ],
   "source": [
    "# https://habr.com/ru/post/544828/\n",
    "from bs4 import BeautifulSoup\n",
    "import requests\n",
    "\n",
    "main_url = 'https://neftegaz.ru/news/energy/700340-resheniya-po-sozdaniyu-setey-elektrosnabzheniya-dlya-proektov-zapadnogo-berega-kolskogo-zaliva-budut/'\n",
    "# url = f'{main_url}/news/'\n",
    "page = requests.get(main_url)\n",
    "print(page.status_code)\n",
    "\n",
    "# filteredNews = []\n",
    "allNews = []\n",
    "\n",
    "soup = BeautifulSoup(page.text, features=\"lxml\")#, \"html.parser\")\n",
    "summary = soup.find('div', class_='articleBodyСlass').text\n",
    "summary.replace('\\n','').replace('\\r','').replace('\\t','')"
   ]
  },
  {
   "cell_type": "code",
   "execution_count": 1,
   "metadata": {},
   "outputs": [
    {
     "name": "stdout",
     "output_type": "stream",
     "text": [
      "200\n"
     ]
    }
   ],
   "source": [
    "# https://habr.com/ru/post/544828/\n",
    "from bs4 import BeautifulSoup\n",
    "import requests\n",
    "\n",
    "main_url = 'https://lukoil-masla.ru/ru/mediacentre/News'\n",
    "# url = f'{main_url}/news/'\n",
    "page = requests.get(main_url)\n",
    "print(page.status_code)\n",
    "\n",
    "# filteredNews = []\n",
    "allNews = []\n"
   ]
  },
  {
   "cell_type": "code",
   "execution_count": 2,
   "metadata": {},
   "outputs": [],
   "source": [
    "soup = BeautifulSoup(page.text, features=\"lxml\")\n",
    "allNews = soup.findAll('div', class_='panel-default panel-time-line panel-collapsible')\n"
   ]
  },
  {
   "cell_type": "code",
   "execution_count": 4,
   "metadata": {},
   "outputs": [
    {
     "name": "stdout",
     "output_type": "stream",
     "text": [
      "https://lukoil-masla.ru/ru/mediacentre/News/News?rid=560519\n",
      "22.09.2021 - \n",
      "ЛУКОЙЛ И ЯНДЕКС РЕАЛИЗУЮТ СОВМЕСТНУЮ СЕРВИСНУЮ ПРОГРАММУ\n"
     ]
    }
   ],
   "source": [
    "a = allNews[0].find('div', class_='panel-heading').find('a')\n",
    "print(a.attrs['href'])\n",
    "print(a.find('span', class_='date').text)\n",
    "print(a.find('span', class_='title').text)"
   ]
  },
  {
   "cell_type": "code",
   "execution_count": 7,
   "metadata": {},
   "outputs": [
    {
     "name": "stdout",
     "output_type": "stream",
     "text": [
      "\n"
     ]
    }
   ],
   "source": [
    "b = allNews[0].find('div', class_='panel-body')#.find('a')\n",
    "print(b.find('a', class_=\"wrap-link\").text)"
   ]
  },
  {
   "cell_type": "code",
   "execution_count": 16,
   "metadata": {},
   "outputs": [
    {
     "data": {
      "text/plain": [
       "'https://lukoil-masla.ru/FileSystem/9/560881.jpeg'"
      ]
     },
     "execution_count": 16,
     "metadata": {},
     "output_type": "execute_result"
    }
   ],
   "source": [
    "b.findAll('a', class_=\"wrap-link\")[0].find('img').attrs['src']"
   ]
  },
  {
   "cell_type": "code",
   "execution_count": 11,
   "metadata": {},
   "outputs": [
    {
     "data": {
      "text/plain": [
       "'ЛУКОЙЛ и ЯНДЕКС приступили к реализации долгосрочной программы лояльности для таксопарков и водителей партнеров Яндекс.Такси с целью их обеспечения высокоэффективными икачественнымисмазочными материалами. В программе задействованы цифровые решения в области онлайн-продаж обеих компаний.'"
      ]
     },
     "execution_count": 11,
     "metadata": {},
     "output_type": "execute_result"
    }
   ],
   "source": [
    "b.findAll('a', class_=\"wrap-link\")[1].text.replace('\\n','').replace('\\xa0','')"
   ]
  },
  {
   "cell_type": "code",
   "execution_count": 21,
   "metadata": {},
   "outputs": [
    {
     "name": "stdout",
     "output_type": "stream",
     "text": [
      "200\n"
     ]
    }
   ],
   "source": [
    "page = requests.get('https://lukoil-masla.ru/ru/mediacentre/News/News?rid=449266')\n",
    "print(page.status_code)\n",
    "soup = BeautifulSoup(page.text, features=\"lxml\")\n"
   ]
  },
  {
   "cell_type": "code",
   "execution_count": 24,
   "metadata": {},
   "outputs": [
    {
     "data": {
      "text/plain": [
       "'\\n24 января 2020 г.\\n\\u200bКомпания ЛЛК-Интернешнл (100% дочернее общество ПАО «ЛУКОЙЛ») обновила линейку гидравлических масел ЛУКОЙЛ ГЕЙЗЕР для использования в арктических условиях. Новая формула ЛУКОЙЛ позволила повысить стабильность характеристик ЛУКОЙЛ ГЕЙЗЕР XLT 32 в условиях экстремальных нагрузок.\\xa0В 2019 году ЛУКОЙЛ провел масштабную научно-исследовательскую работу на основе данных,  собранных у компаний, использующих гидравлические жидкости в тяжелых условиях северных регионов. В результате проведенных исследований Компания представила улучшенную гидравлическую жидкость – ЛУКОЙЛ ГЕЙЗЕР XLT 32, отвечающую требованиям большинства производителей гидравлического оборудования. Отличительной особенностью гидравлической жидкости ЛУКОЙЛ является ее высокий индекс вязкости, обеспечивающий эффективную работу гидросистемы в широком диапазоне температур применения. Это свойство упрощает холодный пуск оборудования и позволяет повысить производительность спецтехники при температурах до - 60⁰С, что немаловажно для предприятий горнодобывающей и лесозаготовительной промышленности, работающих в суровых северных широтах.Гидравлическое масло ЛУКОЙЛ ГЕЙЗЕР XLT 32 получило ряд преимуществ благодаря применению улучшенной комбинации высококачественных базовых масел ЛУКОЙЛ и специального загустителя. Обновленный продукт отличается повышенной стабильностью вязкостных характеристик и стойкостью к механическим нагрузкам в рабочем диапазоне температур, позволяющих увеличить интервал смены гидравлической жидкости. Также масло обеспечивает хорошую защиту от износа узлов гидравлического оборудования.'"
      ]
     },
     "execution_count": 24,
     "metadata": {},
     "output_type": "execute_result"
    }
   ],
   "source": [
    "s = ''\n",
    "for tag in soup.find('div', class_='content'): #.findAll('p', dir='LTR')\n",
    "    if tag.name =='p':\n",
    "        s += tag.text\n",
    "    if tag.name =='a' and tag.attrs['class']=='widget-anchor':\n",
    "        break\n",
    "s"
   ]
  },
  {
   "cell_type": "code",
   "execution_count": null,
   "metadata": {},
   "outputs": [],
   "source": [
    "\n",
    "for n in allNews:\n",
    "    print(main_url+ n.find('a').attrs['href'])\n",
    "    print(main_url+ n.find('a').find('img').attrs['src'])\n",
    "    print(n.find('span').text)\n",
    "    print(n.find('div', class_='panel-heading').text)"
   ]
  },
  {
   "cell_type": "code",
   "execution_count": null,
   "metadata": {},
   "outputs": [],
   "source": [
    "\n",
    "soup = BeautifulSoup(page.text, features=\"lxml\")#, \"html.parser\")\n",
    "summary = soup.find('div', class_='panel-default panel-time-line panel-collapsible').text\n",
    "summary.replace('\\n','').replace('\\r','').replace('\\t','')"
   ]
  }
 ],
 "metadata": {
  "interpreter": {
   "hash": "0600588c3b5f4418cbe7b5ebc6825b479f3bc010269d8b60d75058cdd010adfe"
  },
  "kernelspec": {
   "display_name": "Python 3.7.4 64-bit",
   "name": "python3"
  },
  "language_info": {
   "codemirror_mode": {
    "name": "ipython",
    "version": 3
   },
   "file_extension": ".py",
   "mimetype": "text/x-python",
   "name": "python",
   "nbconvert_exporter": "python",
   "pygments_lexer": "ipython3",
   "version": "3.7.4"
  },
  "orig_nbformat": 4
 },
 "nbformat": 4,
 "nbformat_minor": 2
}
