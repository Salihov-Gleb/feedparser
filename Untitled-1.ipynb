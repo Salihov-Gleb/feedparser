{
 "cells": [
  {
   "cell_type": "code",
   "execution_count": 2,
   "metadata": {},
   "outputs": [],
   "source": [
    "d = {\n",
    "\"sname\":\"Роснефть\",\n",
    "\"feid\":1,\n",
    "\"fsid\":9,\n",
    "\"u_etitle\":\"Ангарская НХК приступила к монтажу уникального оборудования для первичной переработки нефти\",\n",
    "\"u_summary\":\"<p>&laquo;Ангарская нефтехимическая компания&raquo;, которая входит в блок нефтепереработки НК &laquo;Роснефть&raquo;, приступила к монтажу уникального крупногабаритного оборудования &ndash; основной ректификационной колонны на блоке каталитического крекинга.</p>\",\n",
    "\"etitle\":\"Ангарская НХК приступила к монтажу уникального оборудования для первичной переработки нефти\"}"
   ]
  },
  {
   "cell_type": "code",
   "execution_count": 1,
   "metadata": {},
   "outputs": [],
   "source": [
    "import pandas as pd\n",
    "p = pd.read_clipboard()"
   ]
  },
  {
   "cell_type": "code",
   "execution_count": 2,
   "metadata": {},
   "outputs": [
    {
     "data": {
      "text/html": [
       "<div>\n",
       "<style scoped>\n",
       "    .dataframe tbody tr th:only-of-type {\n",
       "        vertical-align: middle;\n",
       "    }\n",
       "\n",
       "    .dataframe tbody tr th {\n",
       "        vertical-align: top;\n",
       "    }\n",
       "\n",
       "    .dataframe thead th {\n",
       "        text-align: right;\n",
       "    }\n",
       "</style>\n",
       "<table border=\"1\" class=\"dataframe\">\n",
       "  <thead>\n",
       "    <tr style=\"text-align: right;\">\n",
       "      <th></th>\n",
       "      <th>Название источника</th>\n",
       "      <th>Ссылка</th>\n",
       "      <th>RSS</th>\n",
       "    </tr>\n",
       "  </thead>\n",
       "  <tbody>\n",
       "    <tr>\n",
       "      <th>0</th>\n",
       "      <td>Автостат</td>\n",
       "      <td>https://www.autostat.ru/news/rss/3/</td>\n",
       "      <td>1</td>\n",
       "    </tr>\n",
       "    <tr>\n",
       "      <th>1</th>\n",
       "      <td>Fuels and Lubes</td>\n",
       "      <td>https://www.fuelsandlubes.com/feed/</td>\n",
       "      <td>1</td>\n",
       "    </tr>\n",
       "    <tr>\n",
       "      <th>2</th>\n",
       "      <td>Lubes'n'Greases</td>\n",
       "      <td>https://www.lubesngreases.com/category/latest-...</td>\n",
       "      <td>1</td>\n",
       "    </tr>\n",
       "    <tr>\n",
       "      <th>3</th>\n",
       "      <td>Нефтегаз</td>\n",
       "      <td>https://neftegaz.ru/export/yandex.php</td>\n",
       "      <td>1</td>\n",
       "    </tr>\n",
       "    <tr>\n",
       "      <th>4</th>\n",
       "      <td>Роснефть</td>\n",
       "      <td>https://www.rosneft.ru/press/news/rss/</td>\n",
       "      <td>1</td>\n",
       "    </tr>\n",
       "    <tr>\n",
       "      <th>5</th>\n",
       "      <td>Мир смазок</td>\n",
       "      <td>https://mirsmazok.ru/news/</td>\n",
       "      <td>0</td>\n",
       "    </tr>\n",
       "    <tr>\n",
       "      <th>6</th>\n",
       "      <td>ЛЛК</td>\n",
       "      <td>https://lukoil-masla.ru/ru/mediacentre/News</td>\n",
       "      <td>0</td>\n",
       "    </tr>\n",
       "    <tr>\n",
       "      <th>7</th>\n",
       "      <td>РН-СМ</td>\n",
       "      <td>https://rosneft-lubricants.ru/about/news/</td>\n",
       "      <td>0</td>\n",
       "    </tr>\n",
       "    <tr>\n",
       "      <th>8</th>\n",
       "      <td>ГПН-СМ</td>\n",
       "      <td>http://www.gazpromneft-sm.ru/ru/press-center/n...</td>\n",
       "      <td>0</td>\n",
       "    </tr>\n",
       "    <tr>\n",
       "      <th>9</th>\n",
       "      <td>Shell</td>\n",
       "      <td>https://www.shell.com/media/news-and-media-rel...</td>\n",
       "      <td>0</td>\n",
       "    </tr>\n",
       "  </tbody>\n",
       "</table>\n",
       "</div>"
      ],
      "text/plain": [
       "  Название источника                                             Ссылка  RSS\n",
       "0           Автостат                https://www.autostat.ru/news/rss/3/    1\n",
       "1    Fuels and Lubes                https://www.fuelsandlubes.com/feed/    1\n",
       "2    Lubes'n'Greases  https://www.lubesngreases.com/category/latest-...    1\n",
       "3           Нефтегаз              https://neftegaz.ru/export/yandex.php    1\n",
       "4           Роснефть             https://www.rosneft.ru/press/news/rss/    1\n",
       "5         Мир смазок                         https://mirsmazok.ru/news/    0\n",
       "6                ЛЛК        https://lukoil-masla.ru/ru/mediacentre/News    0\n",
       "7              РН-СМ          https://rosneft-lubricants.ru/about/news/    0\n",
       "8             ГПН-СМ  http://www.gazpromneft-sm.ru/ru/press-center/n...    0\n",
       "9              Shell  https://www.shell.com/media/news-and-media-rel...    0"
      ]
     },
     "execution_count": 2,
     "metadata": {},
     "output_type": "execute_result"
    }
   ],
   "source": [
    "p"
   ]
  },
  {
   "cell_type": "code",
   "execution_count": 8,
   "metadata": {},
   "outputs": [
    {
     "data": {
      "text/plain": [
       "[(1, 'Автостат', 'https://www.autostat.ru/news/rss/3/', 1),\n",
       " (1, 'Fuels and Lubes', 'https://www.fuelsandlubes.com/feed/', 1),\n",
       " (1,\n",
       "  \"Lubes'n'Greases\",\n",
       "  'https://www.lubesngreases.com/category/latest-headlines/feed/',\n",
       "  1),\n",
       " (1, 'Нефтегаз', 'https://neftegaz.ru/export/yandex.php', 1),\n",
       " (1, 'Роснефть', 'https://www.rosneft.ru/press/news/rss/', 1),\n",
       " (0, 'Мир смазок', 'https://mirsmazok.ru/news/', 0),\n",
       " (0, 'ЛЛК', 'https://lukoil-masla.ru/ru/mediacentre/News', 0),\n",
       " (0, 'РН-СМ', 'https://rosneft-lubricants.ru/about/news/', 0),\n",
       " (0, 'ГПН-СМ', 'http://www.gazpromneft-sm.ru/ru/press-center/news/', 0),\n",
       " (0, 'Shell', 'https://www.shell.com/media/news-and-media-releases.html', 0)]"
      ]
     },
     "execution_count": 8,
     "metadata": {},
     "output_type": "execute_result"
    }
   ],
   "source": [
    "[tuple(r) for i,r in p[['RSS']+list(p.columns)].iterrows()]"
   ]
  },
  {
   "cell_type": "code",
   "execution_count": 5,
   "metadata": {},
   "outputs": [
    {
     "name": "stdout",
     "output_type": "stream",
     "text": [
      "[(0, Название источника                               Автостат\n",
      "Ссылка                https://www.autostat.ru/news/rss/3/\n",
      "RSS                                                     1\n",
      "Name: 0, dtype: object)]\n",
      "[(1, Название источника                        Fuels and Lubes\n",
      "Ссылка                https://www.fuelsandlubes.com/feed/\n",
      "RSS                                                     1\n",
      "Name: 1, dtype: object)]\n",
      "[(2, Название источника                                      Lubes'n'Greases\n",
      "Ссылка                https://www.lubesngreases.com/category/latest-...\n",
      "RSS                                                                   1\n",
      "Name: 2, dtype: object)]\n",
      "[(3, Название источника                                 Нефтегаз\n",
      "Ссылка                https://neftegaz.ru/export/yandex.php\n",
      "RSS                                                       1\n",
      "Name: 3, dtype: object)]\n",
      "[(4, Название источника                                  Роснефть\n",
      "Ссылка                https://www.rosneft.ru/press/news/rss/\n",
      "RSS                                                        1\n",
      "Name: 4, dtype: object)]\n",
      "[(5, Название источника                    Мир смазок\n",
      "Ссылка                https://mirsmazok.ru/news/\n",
      "RSS                                            0\n",
      "Name: 5, dtype: object)]\n",
      "[(6, Название источника                                            ЛЛК\n",
      "Ссылка                https://lukoil-masla.ru/ru/mediacentre/News\n",
      "RSS                                                             0\n",
      "Name: 6, dtype: object)]\n",
      "[(7, Название источника                                        РН-СМ\n",
      "Ссылка                https://rosneft-lubricants.ru/about/news/\n",
      "RSS                                                           0\n",
      "Name: 7, dtype: object)]\n",
      "[(8, Название источника                                               ГПН-СМ\n",
      "Ссылка                http://www.gazpromneft-sm.ru/ru/press-center/n...\n",
      "RSS                                                                   0\n",
      "Name: 8, dtype: object)]\n",
      "[(9, Название источника                                                Shell\n",
      "Ссылка                https://www.shell.com/media/news-and-media-rel...\n",
      "RSS                                                                   0\n",
      "Name: 9, dtype: object)]\n"
     ]
    }
   ],
   "source": [
    "for c in p.iterrows():\n",
    "    print([tuple(c)])"
   ]
  },
  {
   "cell_type": "code",
   "execution_count": 1,
   "metadata": {},
   "outputs": [
    {
     "data": {
      "text/plain": [
       "UUID('0bc0df6d-83dc-44f0-8195-f19f679cdf7d')"
      ]
     },
     "execution_count": 1,
     "metadata": {},
     "output_type": "execute_result"
    }
   ],
   "source": [
    "from uuid import uuid4\n",
    "\n",
    "rand_token = uuid4()\n",
    "\n",
    "rand_token"
   ]
  }
 ],
 "metadata": {
  "interpreter": {
   "hash": "0600588c3b5f4418cbe7b5ebc6825b479f3bc010269d8b60d75058cdd010adfe"
  },
  "kernelspec": {
   "display_name": "Python 3.7.4 64-bit",
   "name": "python3"
  },
  "language_info": {
   "codemirror_mode": {
    "name": "ipython",
    "version": 3
   },
   "file_extension": ".py",
   "mimetype": "text/x-python",
   "name": "python",
   "nbconvert_exporter": "python",
   "pygments_lexer": "ipython3",
   "version": "3.7.4"
  },
  "orig_nbformat": 4
 },
 "nbformat": 4,
 "nbformat_minor": 2
}
